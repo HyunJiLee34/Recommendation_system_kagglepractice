{
 "cells": [
  {
   "cell_type": "code",
   "execution_count": 91,
   "metadata": {},
   "outputs": [],
   "source": [
    "# pip install plotnine"
   ]
  },
  {
   "cell_type": "code",
   "execution_count": 1,
   "metadata": {},
   "outputs": [],
   "source": [
    "import pickle\n",
    "import pandas as pd\n",
    "import numpy as np\n",
    "import os, sys, gc \n",
    "from plotnine import *\n",
    "import plotnine\n",
    "\n",
    "from tqdm.notebook import tqdm as tqdm_notebook\n",
    "import seaborn as sns\n",
    "import warnings\n",
    "import matplotlib.pyplot as plt\n",
    "import matplotlib.font_manager as fm\n",
    "import matplotlib as mpl\n",
    "from matplotlib import rc\n",
    "import re\n",
    "from matplotlib.ticker import PercentFormatter\n",
    "import datetime\n",
    "from math import log # IDF 계산을 위해"
   ]
  },
  {
   "cell_type": "markdown",
   "metadata": {},
   "source": [
    "## Data"
   ]
  },
  {
   "cell_type": "code",
   "execution_count": 2,
   "metadata": {},
   "outputs": [],
   "source": [
    "movie = pd.read_csv(\"/Users/hyunji/2022-2 Recommendation-Tutorial/Data/ratings.csv\")"
   ]
  },
  {
   "cell_type": "code",
   "execution_count": 8,
   "metadata": {},
   "outputs": [
    {
     "data": {
      "text/html": [
       "<div>\n",
       "<style scoped>\n",
       "    .dataframe tbody tr th:only-of-type {\n",
       "        vertical-align: middle;\n",
       "    }\n",
       "\n",
       "    .dataframe tbody tr th {\n",
       "        vertical-align: top;\n",
       "    }\n",
       "\n",
       "    .dataframe thead th {\n",
       "        text-align: right;\n",
       "    }\n",
       "</style>\n",
       "<table border=\"1\" class=\"dataframe\">\n",
       "  <thead>\n",
       "    <tr style=\"text-align: right;\">\n",
       "      <th></th>\n",
       "      <th>userId</th>\n",
       "      <th>movieId</th>\n",
       "      <th>rating</th>\n",
       "      <th>timestamp</th>\n",
       "    </tr>\n",
       "  </thead>\n",
       "  <tbody>\n",
       "    <tr>\n",
       "      <th>0</th>\n",
       "      <td>1</td>\n",
       "      <td>31</td>\n",
       "      <td>2.5</td>\n",
       "      <td>1260759144</td>\n",
       "    </tr>\n",
       "    <tr>\n",
       "      <th>1</th>\n",
       "      <td>1</td>\n",
       "      <td>1029</td>\n",
       "      <td>3.0</td>\n",
       "      <td>1260759179</td>\n",
       "    </tr>\n",
       "    <tr>\n",
       "      <th>2</th>\n",
       "      <td>1</td>\n",
       "      <td>1061</td>\n",
       "      <td>3.0</td>\n",
       "      <td>1260759182</td>\n",
       "    </tr>\n",
       "    <tr>\n",
       "      <th>3</th>\n",
       "      <td>1</td>\n",
       "      <td>1129</td>\n",
       "      <td>2.0</td>\n",
       "      <td>1260759185</td>\n",
       "    </tr>\n",
       "    <tr>\n",
       "      <th>4</th>\n",
       "      <td>1</td>\n",
       "      <td>1172</td>\n",
       "      <td>4.0</td>\n",
       "      <td>1260759205</td>\n",
       "    </tr>\n",
       "    <tr>\n",
       "      <th>...</th>\n",
       "      <td>...</td>\n",
       "      <td>...</td>\n",
       "      <td>...</td>\n",
       "      <td>...</td>\n",
       "    </tr>\n",
       "    <tr>\n",
       "      <th>99999</th>\n",
       "      <td>671</td>\n",
       "      <td>6268</td>\n",
       "      <td>2.5</td>\n",
       "      <td>1065579370</td>\n",
       "    </tr>\n",
       "    <tr>\n",
       "      <th>100000</th>\n",
       "      <td>671</td>\n",
       "      <td>6269</td>\n",
       "      <td>4.0</td>\n",
       "      <td>1065149201</td>\n",
       "    </tr>\n",
       "    <tr>\n",
       "      <th>100001</th>\n",
       "      <td>671</td>\n",
       "      <td>6365</td>\n",
       "      <td>4.0</td>\n",
       "      <td>1070940363</td>\n",
       "    </tr>\n",
       "    <tr>\n",
       "      <th>100002</th>\n",
       "      <td>671</td>\n",
       "      <td>6385</td>\n",
       "      <td>2.5</td>\n",
       "      <td>1070979663</td>\n",
       "    </tr>\n",
       "    <tr>\n",
       "      <th>100003</th>\n",
       "      <td>671</td>\n",
       "      <td>6565</td>\n",
       "      <td>3.5</td>\n",
       "      <td>1074784724</td>\n",
       "    </tr>\n",
       "  </tbody>\n",
       "</table>\n",
       "<p>100004 rows × 4 columns</p>\n",
       "</div>"
      ],
      "text/plain": [
       "        userId  movieId  rating   timestamp\n",
       "0            1       31     2.5  1260759144\n",
       "1            1     1029     3.0  1260759179\n",
       "2            1     1061     3.0  1260759182\n",
       "3            1     1129     2.0  1260759185\n",
       "4            1     1172     4.0  1260759205\n",
       "...        ...      ...     ...         ...\n",
       "99999      671     6268     2.5  1065579370\n",
       "100000     671     6269     4.0  1065149201\n",
       "100001     671     6365     4.0  1070940363\n",
       "100002     671     6385     2.5  1070979663\n",
       "100003     671     6565     3.5  1074784724\n",
       "\n",
       "[100004 rows x 4 columns]"
      ]
     },
     "execution_count": 8,
     "metadata": {},
     "output_type": "execute_result"
    }
   ],
   "source": [
    "movie"
   ]
  },
  {
   "cell_type": "markdown",
   "metadata": {},
   "source": [
    "## 추천모델이 원하는 데이터셋 형태로 바꿔주기"
   ]
  },
  {
   "cell_type": "code",
   "execution_count": 85,
   "metadata": {},
   "outputs": [],
   "source": [
    "user2idx = {}\n",
    "for i, l in enumerate(movie['userId'].unique()):\n",
    "    user2idx[l] = i\n",
    "\n",
    "movie2idx = {}\n",
    "for i, l in enumerate(movie['movieId'].unique()):\n",
    "    movie2idx[l] = i\n",
    "\n",
    "idx2user = {i: user for user, i in user2idx.items()}\n",
    "idx2movie = {i: item for item, i in movie2idx.items()}"
   ]
  },
  {
   "cell_type": "code",
   "execution_count": 14,
   "metadata": {},
   "outputs": [
    {
     "data": {
      "text/html": [
       "<div>\n",
       "<style scoped>\n",
       "    .dataframe tbody tr th:only-of-type {\n",
       "        vertical-align: middle;\n",
       "    }\n",
       "\n",
       "    .dataframe tbody tr th {\n",
       "        vertical-align: top;\n",
       "    }\n",
       "\n",
       "    .dataframe thead th {\n",
       "        text-align: right;\n",
       "    }\n",
       "</style>\n",
       "<table border=\"1\" class=\"dataframe\">\n",
       "  <thead>\n",
       "    <tr style=\"text-align: right;\">\n",
       "      <th></th>\n",
       "      <th>userId</th>\n",
       "      <th>movieId</th>\n",
       "      <th>rating</th>\n",
       "      <th>timestamp</th>\n",
       "      <th>useridx</th>\n",
       "      <th>movieidx</th>\n",
       "    </tr>\n",
       "  </thead>\n",
       "  <tbody>\n",
       "    <tr>\n",
       "      <th>0</th>\n",
       "      <td>1</td>\n",
       "      <td>31</td>\n",
       "      <td>2.5</td>\n",
       "      <td>1260759144</td>\n",
       "      <td>0</td>\n",
       "      <td>0</td>\n",
       "    </tr>\n",
       "    <tr>\n",
       "      <th>1</th>\n",
       "      <td>1</td>\n",
       "      <td>1029</td>\n",
       "      <td>3.0</td>\n",
       "      <td>1260759179</td>\n",
       "      <td>0</td>\n",
       "      <td>1</td>\n",
       "    </tr>\n",
       "    <tr>\n",
       "      <th>2</th>\n",
       "      <td>1</td>\n",
       "      <td>1061</td>\n",
       "      <td>3.0</td>\n",
       "      <td>1260759182</td>\n",
       "      <td>0</td>\n",
       "      <td>2</td>\n",
       "    </tr>\n",
       "    <tr>\n",
       "      <th>3</th>\n",
       "      <td>1</td>\n",
       "      <td>1129</td>\n",
       "      <td>2.0</td>\n",
       "      <td>1260759185</td>\n",
       "      <td>0</td>\n",
       "      <td>3</td>\n",
       "    </tr>\n",
       "    <tr>\n",
       "      <th>4</th>\n",
       "      <td>1</td>\n",
       "      <td>1172</td>\n",
       "      <td>4.0</td>\n",
       "      <td>1260759205</td>\n",
       "      <td>0</td>\n",
       "      <td>4</td>\n",
       "    </tr>\n",
       "    <tr>\n",
       "      <th>...</th>\n",
       "      <td>...</td>\n",
       "      <td>...</td>\n",
       "      <td>...</td>\n",
       "      <td>...</td>\n",
       "      <td>...</td>\n",
       "      <td>...</td>\n",
       "    </tr>\n",
       "    <tr>\n",
       "      <th>99999</th>\n",
       "      <td>671</td>\n",
       "      <td>6268</td>\n",
       "      <td>2.5</td>\n",
       "      <td>1065579370</td>\n",
       "      <td>670</td>\n",
       "      <td>7005</td>\n",
       "    </tr>\n",
       "    <tr>\n",
       "      <th>100000</th>\n",
       "      <td>671</td>\n",
       "      <td>6269</td>\n",
       "      <td>4.0</td>\n",
       "      <td>1065149201</td>\n",
       "      <td>670</td>\n",
       "      <td>4771</td>\n",
       "    </tr>\n",
       "    <tr>\n",
       "      <th>100001</th>\n",
       "      <td>671</td>\n",
       "      <td>6365</td>\n",
       "      <td>4.0</td>\n",
       "      <td>1070940363</td>\n",
       "      <td>670</td>\n",
       "      <td>1329</td>\n",
       "    </tr>\n",
       "    <tr>\n",
       "      <th>100002</th>\n",
       "      <td>671</td>\n",
       "      <td>6385</td>\n",
       "      <td>2.5</td>\n",
       "      <td>1070979663</td>\n",
       "      <td>670</td>\n",
       "      <td>1331</td>\n",
       "    </tr>\n",
       "    <tr>\n",
       "      <th>100003</th>\n",
       "      <td>671</td>\n",
       "      <td>6565</td>\n",
       "      <td>3.5</td>\n",
       "      <td>1074784724</td>\n",
       "      <td>670</td>\n",
       "      <td>2946</td>\n",
       "    </tr>\n",
       "  </tbody>\n",
       "</table>\n",
       "<p>100004 rows × 6 columns</p>\n",
       "</div>"
      ],
      "text/plain": [
       "        userId  movieId  rating   timestamp  useridx  movieidx\n",
       "0            1       31     2.5  1260759144        0         0\n",
       "1            1     1029     3.0  1260759179        0         1\n",
       "2            1     1061     3.0  1260759182        0         2\n",
       "3            1     1129     2.0  1260759185        0         3\n",
       "4            1     1172     4.0  1260759205        0         4\n",
       "...        ...      ...     ...         ...      ...       ...\n",
       "99999      671     6268     2.5  1065579370      670      7005\n",
       "100000     671     6269     4.0  1065149201      670      4771\n",
       "100001     671     6365     4.0  1070940363      670      1329\n",
       "100002     671     6385     2.5  1070979663      670      1331\n",
       "100003     671     6565     3.5  1074784724      670      2946\n",
       "\n",
       "[100004 rows x 6 columns]"
      ]
     },
     "execution_count": 14,
     "metadata": {},
     "output_type": "execute_result"
    }
   ],
   "source": [
    "useridx = movie['useridx'] = movie['userId'].apply(lambda x: user2idx[x]).values\n",
    "movieidx = movie['movieidx'] = movie['movieId'].apply(lambda x: movie2idx[x]).values\n",
    "rating = movie['rating'].values\n",
    "\n",
    "movie"
   ]
  },
  {
   "cell_type": "code",
   "execution_count": 15,
   "metadata": {},
   "outputs": [],
   "source": [
    "n_users = movie['userId'].nunique()\n",
    "n_items = movie['movieId'].nunique()"
   ]
  },
  {
   "cell_type": "code",
   "execution_count": 21,
   "metadata": {},
   "outputs": [
    {
     "data": {
      "text/plain": [
       "array([  0,   0,   0, ..., 670, 670, 670])"
      ]
     },
     "execution_count": 21,
     "metadata": {},
     "output_type": "execute_result"
    }
   ],
   "source": [
    "useridx"
   ]
  },
  {
   "cell_type": "code",
   "execution_count": 16,
   "metadata": {},
   "outputs": [],
   "source": [
    "import scipy\n",
    "#compressed sparse row\n",
    "# csr_matrix((data, (row_ind, col_ind)), [shape=(M, N)])\n",
    "ratings = scipy.sparse.csr_matrix((rating, (useridx, movieidx)), shape=(len(set(useridx)), len(set(movieidx))))"
   ]
  },
  {
   "cell_type": "markdown",
   "metadata": {},
   "source": [
    "## Model"
   ]
  },
  {
   "cell_type": "code",
   "execution_count": 23,
   "metadata": {},
   "outputs": [],
   "source": [
    "import torch\n",
    "import torch.nn.functional as F\n",
    "from torch import nn\n",
    "import torch.nn.init as weight_init\n",
    "\n",
    "class MatrixFactorization(nn.Module):\n",
    "    def __init__(self,R, n_users, n_items, n_factors=20): #random initialize함\n",
    "        super().__init__() # 부모 클래스(torch.nn.Module)의 init을 불러옴 \n",
    "        #임베딩 저장공간확보\n",
    "        self.user_factors = nn.Embedding(n_users, n_factors)#임베딩할 단어의개수, 임베딩할 벡터의 차원\n",
    "        self.item_factors = nn.Embedding(n_items, n_factors)\n",
    "        \n",
    "        # weight 초기화 \n",
    "        weight_init.xavier_uniform_(self.user_factors.weight)\n",
    "        weight_init.xavier_uniform_(self.item_factors.weight)\n",
    "       \n",
    "        # original Matrix \n",
    "        self.R = R\n",
    "        \n",
    "    def forward(self, user, item):\n",
    "        #user와 item값에 대한 embedding 구하기 , \n",
    "        pred = (self.user_factors(user) * self.item_factors(item)).sum(1)\n",
    "        return pred\n",
    "    \n",
    "    def complete_matrix(self):\n",
    "        return torch.matmul(self.user_factors.weight, self.item_factors.weight.T)"
   ]
  },
  {
   "cell_type": "code",
   "execution_count": 26,
   "metadata": {},
   "outputs": [],
   "source": [
    "model = MatrixFactorization(ratings, n_users, n_items, n_factors=20)"
   ]
  },
  {
   "cell_type": "markdown",
   "metadata": {},
   "source": [
    "### 참고 : nn.Embedding"
   ]
  },
  {
   "cell_type": "code",
   "execution_count": 42,
   "metadata": {},
   "outputs": [
    {
     "data": {
      "text/plain": [
       "Parameter containing:\n",
       "tensor([[ 1.3258,  1.9836, -1.5465],\n",
       "        [ 0.9144, -0.4143,  0.1636],\n",
       "        [-0.4903,  0.5278, -0.3591],\n",
       "        [-0.0447, -2.7401, -0.6674],\n",
       "        [ 0.2361, -0.2082, -1.2536],\n",
       "        [ 0.2651,  0.6224, -0.8440],\n",
       "        [-0.2546,  0.3500, -0.3714],\n",
       "        [-0.5804, -0.7231,  0.3429],\n",
       "        [ 0.5060,  0.2968, -0.6070],\n",
       "        [-0.3959,  2.4972,  0.4987]], requires_grad=True)"
      ]
     },
     "execution_count": 42,
     "metadata": {},
     "output_type": "execute_result"
    }
   ],
   "source": [
    "embedding = nn.Embedding(10,3)\n",
    "embedding.weight"
   ]
  },
  {
   "cell_type": "code",
   "execution_count": 43,
   "metadata": {},
   "outputs": [
    {
     "data": {
      "text/plain": [
       "tensor([[[ 0.9144, -0.4143,  0.1636],\n",
       "         [-0.4903,  0.5278, -0.3591],\n",
       "         [ 0.2361, -0.2082, -1.2536],\n",
       "         [ 0.2651,  0.6224, -0.8440]],\n",
       "\n",
       "        [[ 0.2361, -0.2082, -1.2536],\n",
       "         [-0.0447, -2.7401, -0.6674],\n",
       "         [-0.4903,  0.5278, -0.3591],\n",
       "         [-0.3959,  2.4972,  0.4987]]], grad_fn=<EmbeddingBackward0>)"
      ]
     },
     "execution_count": 43,
     "metadata": {},
     "output_type": "execute_result"
    }
   ],
   "source": [
    "from torch import LongTensor\n",
    "#[1,2,4,5], [4,3,2,9]에 대한 임베딩 값 구하기.\n",
    "\n",
    "#방법1\n",
    "sentences = LongTensor([[1,2,4,5],[4,3,2,9]])\n",
    "embedding(sentences)\n",
    "\n",
    "#방법2\n",
    "nn.Embedding(10,3)(LongTensor([[1,2,4,5],[4,3,2,9]]))"
   ]
  },
  {
   "cell_type": "markdown",
   "metadata": {},
   "source": [
    "Batch를 사용하지 않은 Matrix Factorization"
   ]
  },
  {
   "cell_type": "code",
   "execution_count": 77,
   "metadata": {},
   "outputs": [],
   "source": [
    "dev = torch.device(\"cuda\") if torch.cuda.is_available() else torch.device(\"cpu\")\n",
    "optimizer = torch.optim.SGD(model.parameters(), lr=5e-3)  # learning rate\n",
    "loss_func = torch.nn.MSELoss()"
   ]
  },
  {
   "cell_type": "markdown",
   "metadata": {},
   "source": [
    "### 참고 :  zip함수"
   ]
  },
  {
   "cell_type": "code",
   "execution_count": 79,
   "metadata": {},
   "outputs": [
    {
     "name": "stdout",
     "output_type": "stream",
     "text": [
      "(1, 'A')\n",
      "(2, 'B')\n",
      "(3, 'C')\n"
     ]
    }
   ],
   "source": [
    "numbers = [1, 2, 3]\n",
    "letters = [\"A\", \"B\", \"C\"]\n",
    "for pair in zip(*(numbers, letters)):\n",
    "    print(pair)"
   ]
  },
  {
   "cell_type": "code",
   "execution_count": 80,
   "metadata": {
    "scrolled": true
   },
   "outputs": [
    {
     "data": {
      "application/vnd.jupyter.widget-view+json": {
       "model_id": "10875980adb64ad58ed4a6a0a5dfbb95",
       "version_major": 2,
       "version_minor": 0
      },
      "text/plain": [
       "  0%|          | 0/10 [00:00<?, ?it/s]"
      ]
     },
     "metadata": {},
     "output_type": "display_data"
    },
    {
     "name": "stdout",
     "output_type": "stream",
     "text": [
      "Epoch    1/10 Loss: 1.558807\n",
      "Epoch    2/10 Loss: 1.129767\n",
      "Epoch    3/10 Loss: 0.944863\n",
      "Epoch    4/10 Loss: 0.841397\n",
      "Epoch    5/10 Loss: 0.772120\n",
      "Epoch    6/10 Loss: 0.718886\n",
      "Epoch    7/10 Loss: 0.674500\n",
      "Epoch    8/10 Loss: 0.635672\n",
      "Epoch    9/10 Loss: 0.600477\n",
      "Epoch   10/10 Loss: 0.567820\n"
     ]
    }
   ],
   "source": [
    "rows, cols = ratings.nonzero() #실제 rating이 있는 부분과 학습진행ㅁ\n",
    "\n",
    "nb_epochs = 10\n",
    "for epoch in tqdm_notebook(range(nb_epochs)):\n",
    "    train_loss = 0\n",
    "    for row, col in zip(*(rows, cols)):\n",
    "        # gradient 값을 0으로 설정 \n",
    "        optimizer.zero_grad()\n",
    "\n",
    "        # 데이터를 Tensor형태로 변환 \n",
    "        rating = torch.FloatTensor([ratings[row, col]]) #ratings행렬의 행과열 지정\n",
    "        row = torch.LongTensor([row])\n",
    "        col = torch.LongTensor([col])\n",
    "\n",
    "        # 예측값을 만들고 Loss를 계산 \n",
    "        prediction = model(row, col)\n",
    "        loss = loss_func(prediction, rating)\n",
    "        train_loss += loss.item()\n",
    "        \n",
    "        # 역전파 \n",
    "        loss.backward()\n",
    "\n",
    "        # 파라미터를 갱신\n",
    "        optimizer.step()\n",
    "    print('Epoch {:4d}/{} Loss: {:.6f}'.format(epoch+1, nb_epochs, train_loss/len(rows)))"
   ]
  },
  {
   "cell_type": "markdown",
   "metadata": {},
   "source": [
    "## Recommend \n",
    "1. User tensor와 item tensor의 행렬곱을 통해 원 매트릭스 복원\n",
    "2. 평점이 높은 상위 200개의 값을 뽑고 그 중에서 이미 본 내역은 제외"
   ]
  },
  {
   "cell_type": "code",
   "execution_count": null,
   "metadata": {},
   "outputs": [],
   "source": [
    "#1번 사용자가 모든 영화에 대해 남긴 평점의 예측값\n",
    "torch.matmul(model.user_factors.weight[user2idx[1]], model.item_factors.weight.T)"
   ]
  },
  {
   "cell_type": "code",
   "execution_count": 87,
   "metadata": {},
   "outputs": [],
   "source": [
    "idx2rec = {}\n",
    "for u in user2idx.keys():\n",
    "    #argsort는 가장 작은 값을 갖는 인덱스를 뽑는데 - 를 곱해줘서 가장 큰 값을 갖는 인덱스 뽑음\n",
    "    item_rec = np.argsort(-torch.matmul(model.user_factors.weight[user2idx[u]], model.item_factors.weight.T).detach().numpy())[0:200]\n",
    "    # 추천에서 제외해야할 항목\n",
    "    item_rec = [idx2movie[x] for x in item_rec if x not in movie[movie['useridx']==u]['movieidx'].unique()][0:100]\n",
    "    idx2rec[u] = item_rec   \n",
    "    break"
   ]
  },
  {
   "cell_type": "code",
   "execution_count": 90,
   "metadata": {},
   "outputs": [
    {
     "data": {
      "text/plain": [
       "[2318,\n",
       " 5114,\n",
       " 73290,\n",
       " 858,\n",
       " 1276,\n",
       " 1221,\n",
       " 745,\n",
       " 1192,\n",
       " 899,\n",
       " 390,\n",
       " 80,\n",
       " 116,\n",
       " 608,\n",
       " 309,\n",
       " 905,\n",
       " 7063,\n",
       " 318,\n",
       " 8132,\n",
       " 2804,\n",
       " 162,\n",
       " 111,\n",
       " 2563,\n",
       " 260,\n",
       " 1259,\n",
       " 4914,\n",
       " 1148,\n",
       " 2542,\n",
       " 5995,\n",
       " 1172,\n",
       " 6269,\n",
       " 7502,\n",
       " 911,\n",
       " 912,\n",
       " 913,\n",
       " 1223,\n",
       " 2064,\n",
       " 93040,\n",
       " 904,\n",
       " 4427,\n",
       " 97,\n",
       " 1250,\n",
       " 908,\n",
       " 73344,\n",
       " 1394,\n",
       " 1233,\n",
       " 1212,\n",
       " 6954,\n",
       " 1219,\n",
       " 1211,\n",
       " 1228,\n",
       " 307,\n",
       " 1136,\n",
       " 6669,\n",
       " 1252,\n",
       " 926,\n",
       " 246,\n",
       " 1243,\n",
       " 9010,\n",
       " 308,\n",
       " 1674,\n",
       " 2959,\n",
       " 2938,\n",
       " 903,\n",
       " 759,\n",
       " 969,\n",
       " 1198,\n",
       " 1203,\n",
       " 3462,\n",
       " 2920,\n",
       " 1227,\n",
       " 7075,\n",
       " 2599,\n",
       " 1247,\n",
       " 2019,\n",
       " 922,\n",
       " 2329,\n",
       " 1288,\n",
       " 26587,\n",
       " 2186,\n",
       " 28,\n",
       " 907,\n",
       " 951,\n",
       " 534,\n",
       " 1060,\n",
       " 1934,\n",
       " 898,\n",
       " 131724,\n",
       " 58559,\n",
       " 116897,\n",
       " 3435,\n",
       " 4226,\n",
       " 2924,\n",
       " 104913,\n",
       " 1945,\n",
       " 27803,\n",
       " 4103,\n",
       " 6918,\n",
       " 6993,\n",
       " 1230,\n",
       " 6016]"
      ]
     },
     "execution_count": 90,
     "metadata": {},
     "output_type": "execute_result"
    }
   ],
   "source": [
    "#첫번째 사용자에게 추천된 항목 확인\n",
    "idx2rec[1]"
   ]
  }
 ],
 "metadata": {
  "kernelspec": {
   "display_name": "Python 3",
   "language": "python",
   "name": "python3"
  },
  "language_info": {
   "codemirror_mode": {
    "name": "ipython",
    "version": 3
   },
   "file_extension": ".py",
   "mimetype": "text/x-python",
   "name": "python",
   "nbconvert_exporter": "python",
   "pygments_lexer": "ipython3",
   "version": "3.8.8"
  }
 },
 "nbformat": 4,
 "nbformat_minor": 4
}
